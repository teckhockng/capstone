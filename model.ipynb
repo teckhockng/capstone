{
 "cells": [
  {
   "cell_type": "markdown",
   "metadata": {},
   "source": [
    "### Import modules and libraries"
   ]
  },
  {
   "cell_type": "code",
   "execution_count": 1,
   "metadata": {},
   "outputs": [],
   "source": [
    "import pandas as pd\n",
    "import numpy as np\n",
    "import matplotlib.pyplot as plt\n",
    "from sklearn.model_selection import train_test_split, GridSearchCV\n",
    "import datetime as DT\n",
    "from sklearn_pandas import DataFrameMapper\n",
    "import tensorflow as tf\n",
    "from tensorflow import keras\n",
    "from tensorflow.keras.models import Sequential\n",
    "from tensorflow.keras.layers import Dense, Input\n",
    "from sklearn.decomposition import PCA\n",
    "from sklearn.linear_model import LogisticRegression\n",
    "from sklearn.impute import SimpleImputer\n",
    "from sklearn.pipeline import make_pipeline\n",
    "from tensorflow.keras.layers import Dropout\n",
    "import pickle\n",
    "import dill\n",
    "\n",
    "%matplotlib inline"
   ]
  },
  {
   "cell_type": "markdown",
   "metadata": {},
   "source": [
    "### Read the 17_18 and 18_19 data"
   ]
  },
  {
   "cell_type": "code",
   "execution_count": 2,
   "metadata": {},
   "outputs": [
    {
     "name": "stdout",
     "output_type": "stream",
     "text": [
      "<class 'pandas.core.frame.DataFrame'>\n",
      "RangeIndex: 454314 entries, 0 to 454313\n",
      "Data columns (total 4 columns):\n",
      "time        454314 non-null float64\n",
      "home        454314 non-null int64\n",
      "away        454314 non-null int64\n",
      "home_win    454314 non-null bool\n",
      "dtypes: bool(1), float64(1), int64(2)\n",
      "memory usage: 10.8 MB\n"
     ]
    }
   ],
   "source": [
    "df_17_18 = pd.read_csv('data/season_17_18.csv')\n",
    "\n",
    "df_17_18['home_win'] = df_17_18['home_win'].astype(bool)\n",
    "df_17_18['home'] = df_17_18['home'].astype(int)\n",
    "df_17_18['away'] = df_17_18['away'].astype(int)\n",
    "\n",
    "df_17_18.info()"
   ]
  },
  {
   "cell_type": "code",
   "execution_count": 3,
   "metadata": {},
   "outputs": [
    {
     "name": "stdout",
     "output_type": "stream",
     "text": [
      "<class 'pandas.core.frame.DataFrame'>\n",
      "RangeIndex: 482045 entries, 0 to 482044\n",
      "Data columns (total 4 columns):\n",
      "time        482045 non-null float64\n",
      "home        482045 non-null int64\n",
      "away        482045 non-null int64\n",
      "home_win    482045 non-null bool\n",
      "dtypes: bool(1), float64(1), int64(2)\n",
      "memory usage: 11.5 MB\n"
     ]
    }
   ],
   "source": [
    "df_18_19 = pd.read_csv('data/season_18_19.csv')\n",
    "\n",
    "df_18_19['home_win'] = df_18_19['home_win'].astype(bool)\n",
    "df_18_19['home'] = df_18_19['home'].astype(int)\n",
    "df_18_19['away'] = df_18_19['away'].astype(int)\n",
    "\n",
    "df_18_19.info()"
   ]
  },
  {
   "cell_type": "markdown",
   "metadata": {},
   "source": [
    "### Combine both dataset"
   ]
  },
  {
   "cell_type": "code",
   "execution_count": 4,
   "metadata": {},
   "outputs": [],
   "source": [
    "df = df_17_18.append(df_18_19)"
   ]
  },
  {
   "cell_type": "code",
   "execution_count": 5,
   "metadata": {},
   "outputs": [],
   "source": [
    "df_no_duplicate = df.drop_duplicates()"
   ]
  },
  {
   "cell_type": "code",
   "execution_count": 6,
   "metadata": {},
   "outputs": [],
   "source": [
    "df_no_duplicate.to_csv('data/combined_lite.csv')"
   ]
  },
  {
   "cell_type": "code",
   "execution_count": 7,
   "metadata": {},
   "outputs": [
    {
     "data": {
      "text/plain": [
       "776140"
      ]
     },
     "execution_count": 7,
     "metadata": {},
     "output_type": "execute_result"
    }
   ],
   "source": [
    "len(df_no_duplicate)"
   ]
  },
  {
   "cell_type": "markdown",
   "metadata": {},
   "source": [
    "### Define X and y, and set a benchmark to beat for our model"
   ]
  },
  {
   "cell_type": "code",
   "execution_count": 8,
   "metadata": {},
   "outputs": [
    {
     "data": {
      "text/plain": [
       "0.5865079526121926"
      ]
     },
     "execution_count": 8,
     "metadata": {},
     "output_type": "execute_result"
    }
   ],
   "source": [
    "# There are 58.65% chance home team will win and our model have to beat it\n",
    "np.sum(df['home_win'])/len(df)"
   ]
  },
  {
   "cell_type": "markdown",
   "metadata": {},
   "source": [
    "### Do a train test split and feed it into models"
   ]
  },
  {
   "cell_type": "code",
   "execution_count": 9,
   "metadata": {},
   "outputs": [],
   "source": [
    "features = ['time','home','away']\n",
    "target = 'home_win'\n",
    "\n",
    "X = df[features]\n",
    "y = df[target]\n",
    "\n",
    "X_train, X_test, y_train, y_test = train_test_split(X, y, random_state=42)"
   ]
  },
  {
   "cell_type": "code",
   "execution_count": 10,
   "metadata": {},
   "outputs": [],
   "source": [
    "pca = PCA(n_components=3)\n",
    "pca.fit(X_train)\n",
    "Z_train = pca.transform(X_train)\n",
    "Z_test = pca.transform(X_test)"
   ]
  },
  {
   "cell_type": "code",
   "execution_count": 11,
   "metadata": {},
   "outputs": [
    {
     "data": {
      "text/plain": [
       "LogisticRegression(C=1.0, class_weight=None, dual=False, fit_intercept=True,\n",
       "                   intercept_scaling=1, l1_ratio=None, max_iter=100,\n",
       "                   multi_class='warn', n_jobs=None, penalty='l2',\n",
       "                   random_state=None, solver='liblinear', tol=0.0001, verbose=0,\n",
       "                   warm_start=False)"
      ]
     },
     "execution_count": 11,
     "metadata": {},
     "output_type": "execute_result"
    }
   ],
   "source": [
    "log_reg = LogisticRegression(solver='liblinear')\n",
    "log_reg.fit(Z_train, y_train)"
   ]
  },
  {
   "cell_type": "code",
   "execution_count": 12,
   "metadata": {},
   "outputs": [
    {
     "name": "stdout",
     "output_type": "stream",
     "text": [
      "0.7381359564497365\n",
      "0.7384638386945191\n"
     ]
    }
   ],
   "source": [
    "# Seems like logistic regression is better than the benchmark score. Now we optimize it\n",
    "print(log_reg.score(Z_train, y_train))\n",
    "print(log_reg.score(Z_test, y_test))"
   ]
  },
  {
   "cell_type": "code",
   "execution_count": 13,
   "metadata": {},
   "outputs": [
    {
     "name": "stdout",
     "output_type": "stream",
     "text": [
      "The score for train data is 0.7381202929361825.\n",
      "The score for test data is 0.7384382075270195.\n"
     ]
    }
   ],
   "source": [
    "#Model params\n",
    "model_params = {\n",
    "    'penalty':['l1', 'l2'],\n",
    "    'C':[0.01, 0.1, 1, 5, 15, 30],\n",
    "    'random_state':[42],\n",
    "    'solver': ['liblinear']\n",
    "}\n",
    "\n",
    "pipe_logreg = make_pipeline(\n",
    "    PCA(n_components=3, random_state=42),\n",
    "    GridSearchCV(log_reg, model_params, cv=3)\n",
    ")\n",
    "\n",
    "pipe_logreg.fit(X_train, y_train)\n",
    "\n",
    "print(f\"The score for train data is {pipe_logreg.score(X_train, y_train)}.\")\n",
    "print(f\"The score for test data is {pipe_logreg.score(X_test, y_test)}.\")"
   ]
  },
  {
   "cell_type": "markdown",
   "metadata": {},
   "source": [
    "### Train with neural network"
   ]
  },
  {
   "cell_type": "code",
   "execution_count": 14,
   "metadata": {},
   "outputs": [],
   "source": [
    "# input -> 500 -> 1000 -> 500 -> 1\n",
    "model = Sequential()\n",
    "\n",
    "model.add(Input(shape=(X_train.shape[1],)))\n",
    "model.add(Dense(500, activation='relu'))\n",
    "model.add(Dropout(0.2))\n",
    "model.add(Dense(1000, activation='relu'))\n",
    "model.add(Dropout(0.2))\n",
    "model.add(Dense(500, activation='relu'))\n",
    "model.add(Dropout(0.2))\n",
    "model.add(Dense(1, activation='sigmoid'))"
   ]
  },
  {
   "cell_type": "code",
   "execution_count": 15,
   "metadata": {},
   "outputs": [],
   "source": [
    "model.compile(loss='binary_crossentropy', optimizer='adam', metrics=['acc'])"
   ]
  },
  {
   "cell_type": "code",
   "execution_count": 16,
   "metadata": {},
   "outputs": [],
   "source": [
    "# Add early stopping rounds\n",
    "from tensorflow.keras.callbacks import EarlyStopping\n",
    "\n",
    "early_stop = EarlyStopping(monitor='acc', min_delta=0, patience=15)"
   ]
  },
  {
   "cell_type": "code",
   "execution_count": 18,
   "metadata": {
    "scrolled": true
   },
   "outputs": [
    {
     "name": "stdout",
     "output_type": "stream",
     "text": [
      "WARNING:tensorflow:Falling back from v2 loop because of error: Failed to find data adapter that can handle input: <class 'pandas.core.frame.DataFrame'>, <class 'NoneType'>\n",
      "Train on 702269 samples, validate on 234090 samples\n",
      "Epoch 1/500\n",
      "702269/702269 [==============================] - 30s 43us/sample - loss: 1.6724 - acc: 0.6443 - val_loss: 0.5157 - val_acc: 0.7250\n",
      "Epoch 2/500\n",
      "702269/702269 [==============================] - 29s 42us/sample - loss: 0.5204 - acc: 0.7265 - val_loss: 0.5130 - val_acc: 0.7301\n",
      "Epoch 3/500\n",
      "702269/702269 [==============================] - 29s 42us/sample - loss: 0.5147 - acc: 0.7315 - val_loss: 0.5091 - val_acc: 0.7351\n",
      "Epoch 4/500\n",
      "702269/702269 [==============================] - 29s 42us/sample - loss: 0.5111 - acc: 0.7350 - val_loss: 0.5073 - val_acc: 0.7369\n",
      "Epoch 5/500\n",
      "702269/702269 [==============================] - 30s 43us/sample - loss: 0.5085 - acc: 0.7368 - val_loss: 0.5041 - val_acc: 0.7379\n",
      "Epoch 6/500\n",
      "702269/702269 [==============================] - 31s 44us/sample - loss: 0.5069 - acc: 0.7369 - val_loss: 0.5053 - val_acc: 0.7389\n",
      "Epoch 7/500\n",
      "702269/702269 [==============================] - 30s 43us/sample - loss: 0.5052 - acc: 0.7375 - val_loss: 0.5020 - val_acc: 0.7385\n",
      "Epoch 8/500\n",
      "702269/702269 [==============================] - 32s 45us/sample - loss: 0.5037 - acc: 0.7378 - val_loss: 0.5000 - val_acc: 0.7394\n",
      "Epoch 9/500\n",
      "702269/702269 [==============================] - 31s 44us/sample - loss: 0.5028 - acc: 0.7378 - val_loss: 0.4988 - val_acc: 0.7391\n",
      "Epoch 10/500\n",
      "702269/702269 [==============================] - 31s 44us/sample - loss: 0.5014 - acc: 0.7381 - val_loss: 0.4974 - val_acc: 0.7392\n",
      "Epoch 11/500\n",
      "702269/702269 [==============================] - 30s 42us/sample - loss: 0.5009 - acc: 0.7386 - val_loss: 0.4976 - val_acc: 0.7404\n",
      "Epoch 12/500\n",
      "702269/702269 [==============================] - 29s 42us/sample - loss: 0.4999 - acc: 0.7385 - val_loss: 0.4976 - val_acc: 0.7403\n",
      "Epoch 13/500\n",
      "702269/702269 [==============================] - 29s 42us/sample - loss: 0.4996 - acc: 0.7386 - val_loss: 0.5019 - val_acc: 0.7397\n",
      "Epoch 14/500\n",
      "702269/702269 [==============================] - 30s 42us/sample - loss: 0.4992 - acc: 0.7389 - val_loss: 0.5018 - val_acc: 0.7405\n",
      "Epoch 15/500\n",
      "702269/702269 [==============================] - 29s 42us/sample - loss: 0.4986 - acc: 0.7389 - val_loss: 0.4983 - val_acc: 0.7399\n",
      "Epoch 16/500\n",
      "702269/702269 [==============================] - 30s 42us/sample - loss: 0.4984 - acc: 0.7390 - val_loss: 0.4970 - val_acc: 0.7402\n",
      "Epoch 17/500\n",
      "702269/702269 [==============================] - 30s 42us/sample - loss: 0.4978 - acc: 0.7392 - val_loss: 0.4983 - val_acc: 0.7400\n",
      "Epoch 18/500\n",
      "702269/702269 [==============================] - 29s 42us/sample - loss: 0.4974 - acc: 0.7392 - val_loss: 0.4968 - val_acc: 0.7403\n",
      "Epoch 19/500\n",
      "702269/702269 [==============================] - 30s 42us/sample - loss: 0.4972 - acc: 0.7393 - val_loss: 0.4986 - val_acc: 0.7409\n",
      "Epoch 20/500\n",
      "702269/702269 [==============================] - 29s 42us/sample - loss: 0.4970 - acc: 0.7394 - val_loss: 0.4942 - val_acc: 0.7399\n",
      "Epoch 21/500\n",
      "702269/702269 [==============================] - 29s 42us/sample - loss: 0.4969 - acc: 0.7393 - val_loss: 0.4980 - val_acc: 0.7408\n",
      "Epoch 22/500\n",
      "702269/702269 [==============================] - 30s 42us/sample - loss: 0.4964 - acc: 0.7397 - val_loss: 0.4949 - val_acc: 0.7403\n",
      "Epoch 23/500\n",
      "702269/702269 [==============================] - 29s 42us/sample - loss: 0.4963 - acc: 0.7397 - val_loss: 0.4950 - val_acc: 0.7402\n",
      "Epoch 24/500\n",
      "702269/702269 [==============================] - 29s 42us/sample - loss: 0.4961 - acc: 0.7395 - val_loss: 0.4937 - val_acc: 0.7408\n",
      "Epoch 25/500\n",
      "702269/702269 [==============================] - 29s 42us/sample - loss: 0.4960 - acc: 0.7394 - val_loss: 0.4939 - val_acc: 0.7410\n",
      "Epoch 26/500\n",
      "702269/702269 [==============================] - 30s 42us/sample - loss: 0.4958 - acc: 0.7396 - val_loss: 0.4943 - val_acc: 0.7404\n",
      "Epoch 27/500\n",
      "702269/702269 [==============================] - 29s 42us/sample - loss: 0.4955 - acc: 0.7395 - val_loss: 0.4936 - val_acc: 0.7412\n",
      "Epoch 28/500\n",
      "702269/702269 [==============================] - 29s 42us/sample - loss: 0.4956 - acc: 0.7396 - val_loss: 0.4969 - val_acc: 0.7412\n",
      "Epoch 29/500\n",
      "702269/702269 [==============================] - 30s 42us/sample - loss: 0.4953 - acc: 0.7398 - val_loss: 0.4962 - val_acc: 0.7403\n",
      "Epoch 30/500\n",
      "702269/702269 [==============================] - 30s 42us/sample - loss: 0.4950 - acc: 0.7399 - val_loss: 0.4931 - val_acc: 0.7411\n",
      "Epoch 31/500\n",
      "702269/702269 [==============================] - 30s 42us/sample - loss: 0.4950 - acc: 0.7397 - val_loss: 0.4992 - val_acc: 0.7408\n",
      "Epoch 32/500\n",
      "702269/702269 [==============================] - 30s 42us/sample - loss: 0.4948 - acc: 0.7397 - val_loss: 0.4961 - val_acc: 0.7410\n",
      "Epoch 33/500\n",
      "702269/702269 [==============================] - 30s 42us/sample - loss: 0.4947 - acc: 0.7400 - val_loss: 0.4952 - val_acc: 0.7413\n",
      "Epoch 34/500\n",
      "702269/702269 [==============================] - 30s 42us/sample - loss: 0.4944 - acc: 0.7402 - val_loss: 0.4962 - val_acc: 0.7394\n",
      "Epoch 35/500\n",
      "702269/702269 [==============================] - 30s 42us/sample - loss: 0.4949 - acc: 0.7400 - val_loss: 0.4940 - val_acc: 0.7409\n",
      "Epoch 36/500\n",
      "702269/702269 [==============================] - 29s 42us/sample - loss: 0.4942 - acc: 0.7400 - val_loss: 0.4951 - val_acc: 0.7412\n",
      "Epoch 37/500\n",
      "702269/702269 [==============================] - 30s 42us/sample - loss: 0.4943 - acc: 0.7399 - val_loss: 0.4969 - val_acc: 0.7412\n",
      "Epoch 38/500\n",
      "702269/702269 [==============================] - 31s 45us/sample - loss: 0.4937 - acc: 0.7403 - val_loss: 0.4964 - val_acc: 0.7408\n",
      "Epoch 39/500\n",
      "702269/702269 [==============================] - 30s 43us/sample - loss: 0.4941 - acc: 0.7405 - val_loss: 0.4972 - val_acc: 0.7411\n",
      "Epoch 40/500\n",
      "702269/702269 [==============================] - 32s 45us/sample - loss: 0.4937 - acc: 0.7403 - val_loss: 0.4944 - val_acc: 0.7410\n",
      "Epoch 41/500\n",
      "702269/702269 [==============================] - 30s 43us/sample - loss: 0.4940 - acc: 0.7401 - val_loss: 0.4922 - val_acc: 0.7410\n",
      "Epoch 42/500\n",
      "702269/702269 [==============================] - 31s 44us/sample - loss: 0.4939 - acc: 0.7401 - val_loss: 0.4938 - val_acc: 0.7414\n",
      "Epoch 43/500\n",
      "702269/702269 [==============================] - 30s 42us/sample - loss: 0.4940 - acc: 0.7402 - val_loss: 0.4953 - val_acc: 0.7404\n",
      "Epoch 44/500\n",
      "702269/702269 [==============================] - 30s 42us/sample - loss: 0.4936 - acc: 0.7400 - val_loss: 0.5028 - val_acc: 0.7414\n",
      "Epoch 45/500\n",
      "702269/702269 [==============================] - 30s 42us/sample - loss: 0.4944 - acc: 0.7401 - val_loss: 0.4956 - val_acc: 0.7411\n",
      "Epoch 46/500\n",
      "702269/702269 [==============================] - 30s 43us/sample - loss: 0.4932 - acc: 0.7403 - val_loss: 0.4976 - val_acc: 0.7406\n",
      "Epoch 47/500\n",
      "702269/702269 [==============================] - 30s 42us/sample - loss: 0.4931 - acc: 0.7404 - val_loss: 0.4940 - val_acc: 0.7413\n",
      "Epoch 48/500\n",
      "702269/702269 [==============================] - 30s 42us/sample - loss: 0.4933 - acc: 0.7405 - val_loss: 0.4933 - val_acc: 0.7411\n",
      "Epoch 49/500\n",
      "702269/702269 [==============================] - 30s 42us/sample - loss: 0.4932 - acc: 0.7402 - val_loss: 0.4930 - val_acc: 0.7410\n",
      "Epoch 50/500\n",
      "702269/702269 [==============================] - 30s 43us/sample - loss: 0.4930 - acc: 0.7407 - val_loss: 0.4970 - val_acc: 0.7409\n",
      "Epoch 51/500\n",
      "702269/702269 [==============================] - 31s 44us/sample - loss: 0.4934 - acc: 0.7404 - val_loss: 0.4955 - val_acc: 0.7406\n",
      "Epoch 52/500\n",
      "702269/702269 [==============================] - 31s 44us/sample - loss: 0.4934 - acc: 0.7403 - val_loss: 0.4929 - val_acc: 0.7413\n",
      "Epoch 53/500\n",
      "702269/702269 [==============================] - 33s 47us/sample - loss: 0.4930 - acc: 0.7406 - val_loss: 0.4927 - val_acc: 0.7415\n",
      "Epoch 54/500\n",
      "702269/702269 [==============================] - 30s 43us/sample - loss: 0.4928 - acc: 0.7407 - val_loss: 0.4960 - val_acc: 0.7412\n",
      "Epoch 55/500\n",
      "702269/702269 [==============================] - 31s 44us/sample - loss: 0.4932 - acc: 0.7405 - val_loss: 0.4937 - val_acc: 0.7418\n",
      "Epoch 56/500\n"
     ]
    },
    {
     "name": "stdout",
     "output_type": "stream",
     "text": [
      "702269/702269 [==============================] - 30s 43us/sample - loss: 0.4931 - acc: 0.7403 - val_loss: 0.4911 - val_acc: 0.7411\n",
      "Epoch 57/500\n",
      "702269/702269 [==============================] - 31s 44us/sample - loss: 0.4928 - acc: 0.7402 - val_loss: 0.4969 - val_acc: 0.7416\n",
      "Epoch 58/500\n",
      "702269/702269 [==============================] - 30s 43us/sample - loss: 0.4926 - acc: 0.7405 - val_loss: 0.4923 - val_acc: 0.7405\n",
      "Epoch 59/500\n",
      "702269/702269 [==============================] - 30s 43us/sample - loss: 0.4930 - acc: 0.7405 - val_loss: 0.4921 - val_acc: 0.7411\n",
      "Epoch 60/500\n",
      "702269/702269 [==============================] - 30s 43us/sample - loss: 0.4928 - acc: 0.7405 - val_loss: 0.5019 - val_acc: 0.7411\n",
      "Epoch 61/500\n",
      "702269/702269 [==============================] - 30s 42us/sample - loss: 0.4930 - acc: 0.7404 - val_loss: 0.4960 - val_acc: 0.7417\n",
      "Epoch 62/500\n",
      "702269/702269 [==============================] - 31s 44us/sample - loss: 0.4925 - acc: 0.7405 - val_loss: 0.4975 - val_acc: 0.7412\n",
      "Epoch 63/500\n",
      "702269/702269 [==============================] - 30s 43us/sample - loss: 0.4925 - acc: 0.7408 - val_loss: 0.4911 - val_acc: 0.7416\n",
      "Epoch 64/500\n",
      "702269/702269 [==============================] - 30s 43us/sample - loss: 0.4928 - acc: 0.7405 - val_loss: 0.4928 - val_acc: 0.7413\n",
      "Epoch 65/500\n",
      "702269/702269 [==============================] - 30s 43us/sample - loss: 0.4928 - acc: 0.7406 - val_loss: 0.4938 - val_acc: 0.7410\n",
      "Epoch 66/500\n",
      "702269/702269 [==============================] - 31s 44us/sample - loss: 0.4922 - acc: 0.7405 - val_loss: 0.4947 - val_acc: 0.7407\n",
      "Epoch 67/500\n",
      "702269/702269 [==============================] - 30s 43us/sample - loss: 0.4925 - acc: 0.7409 - val_loss: 0.4921 - val_acc: 0.7415\n",
      "Epoch 68/500\n",
      "702269/702269 [==============================] - 30s 43us/sample - loss: 0.4923 - acc: 0.7407 - val_loss: 0.4922 - val_acc: 0.7412\n",
      "Epoch 69/500\n",
      "702269/702269 [==============================] - 30s 43us/sample - loss: 0.4924 - acc: 0.7407 - val_loss: 0.4927 - val_acc: 0.7414\n",
      "Epoch 70/500\n",
      "702269/702269 [==============================] - 30s 42us/sample - loss: 0.4924 - acc: 0.7406 - val_loss: 0.4926 - val_acc: 0.7409\n",
      "Epoch 71/500\n",
      "702269/702269 [==============================] - 30s 42us/sample - loss: 0.4923 - acc: 0.7407 - val_loss: 0.4929 - val_acc: 0.7411\n",
      "Epoch 72/500\n",
      "702269/702269 [==============================] - 31s 44us/sample - loss: 0.4923 - acc: 0.7405 - val_loss: 0.4997 - val_acc: 0.7409\n",
      "Epoch 73/500\n",
      "702269/702269 [==============================] - 31s 45us/sample - loss: 0.4923 - acc: 0.7407 - val_loss: 0.4946 - val_acc: 0.7409\n",
      "Epoch 74/500\n",
      "702269/702269 [==============================] - 30s 43us/sample - loss: 0.4922 - acc: 0.7407 - val_loss: 0.4942 - val_acc: 0.7406\n",
      "Epoch 75/500\n",
      "702269/702269 [==============================] - 30s 43us/sample - loss: 0.4923 - acc: 0.7408 - val_loss: 0.4921 - val_acc: 0.7416\n",
      "Epoch 76/500\n",
      "702269/702269 [==============================] - 30s 43us/sample - loss: 0.4922 - acc: 0.7404 - val_loss: 0.4921 - val_acc: 0.7420\n",
      "Epoch 77/500\n",
      "702269/702269 [==============================] - 32s 46us/sample - loss: 0.4918 - acc: 0.7408 - val_loss: 0.4920 - val_acc: 0.7414\n",
      "Epoch 78/500\n",
      "702269/702269 [==============================] - 32s 45us/sample - loss: 0.4918 - acc: 0.7407 - val_loss: 0.4926 - val_acc: 0.7417\n",
      "Epoch 79/500\n",
      "702269/702269 [==============================] - 30s 43us/sample - loss: 0.4919 - acc: 0.7408 - val_loss: 0.4908 - val_acc: 0.7414\n",
      "Epoch 80/500\n",
      "702269/702269 [==============================] - 31s 44us/sample - loss: 0.4919 - acc: 0.7406 - val_loss: 0.4915 - val_acc: 0.7418\n",
      "Epoch 81/500\n",
      "702269/702269 [==============================] - 30s 43us/sample - loss: 0.4921 - acc: 0.7408 - val_loss: 0.4925 - val_acc: 0.7413\n",
      "Epoch 82/500\n",
      "702269/702269 [==============================] - 31s 43us/sample - loss: 0.4919 - acc: 0.7408 - val_loss: 0.4924 - val_acc: 0.7415\n"
     ]
    }
   ],
   "source": [
    "# Fit model on training data.\n",
    "history = model.fit(X_train,\n",
    "                    y_train, \n",
    "                    batch_size=10000,\n",
    "                    validation_data=(X_test, y_test),\n",
    "                    epochs=500, \n",
    "                    callbacks=[early_stop]\n",
    "                    )"
   ]
  },
  {
   "cell_type": "markdown",
   "metadata": {},
   "source": [
    "### Perform analysis on the model performance and test it with new data"
   ]
  },
  {
   "cell_type": "code",
   "execution_count": 20,
   "metadata": {
    "scrolled": false
   },
   "outputs": [
    {
     "data": {
      "image/png": "[encoded data removed]",
      "text/plain": [
       "<Figure size 864x576 with 1 Axes>"
      ]
     },
     "metadata": {
      "needs_background": "light"
     },
     "output_type": "display_data"
    }
   ],
   "source": [
    "train_loss = history.history['loss']\n",
    "test_loss = history.history['val_loss']\n",
    "plt.figure(figsize=(12, 8))\n",
    "plt.plot(train_loss, label='Training loss', color='navy')\n",
    "plt.plot(test_loss, label='Testing loss', color='skyblue')\n",
    "# Set title\n",
    "plt.title('Training and Testing Loss by Epoch', fontsize = 25)\n",
    "plt.xlabel('Epoch', fontsize = 18)\n",
    "plt.ylabel('Binary Crossentropy', fontsize = 18)\n",
    "plt.legend();"
   ]
  },
  {
   "cell_type": "code",
   "execution_count": 21,
   "metadata": {},
   "outputs": [
    {
     "data": {
      "text/plain": [
       "array([[0.19183572]], dtype=float32)"
      ]
     },
     "execution_count": 21,
     "metadata": {},
     "output_type": "execute_result"
    }
   ],
   "source": [
    "# time played, home score, visitor score\n",
    "data = [[47,93,97]]\n",
    "model.predict(data)"
   ]
  },
  {
   "cell_type": "code",
   "execution_count": 22,
   "metadata": {},
   "outputs": [
    {
     "data": {
      "text/plain": [
       "array([False])"
      ]
     },
     "execution_count": 22,
     "metadata": {},
     "output_type": "execute_result"
    }
   ],
   "source": [
    "pipe_logreg.predict(data)"
   ]
  },
  {
   "cell_type": "markdown",
   "metadata": {},
   "source": [
    "### Pickle/Save the model and use it in app.py"
   ]
  },
  {
   "cell_type": "code",
   "execution_count": 19,
   "metadata": {},
   "outputs": [],
   "source": [
    "# Save tensorflow model\n",
    "model.save(\"model.h5\")"
   ]
  },
  {
   "cell_type": "code",
   "execution_count": null,
   "metadata": {},
   "outputs": [],
   "source": [
    "# Save logistic regression model\n",
    "pickle.dump(pipe, open('logreg.pkl', 'wb'))"
   ]
  }
 ],
 "metadata": {
  "kernelspec": {
   "display_name": "Python 3",
   "language": "python",
   "name": "python3"
  },
  "language_info": {
   "codemirror_mode": {
    "name": "ipython",
    "version": 3
   },
   "file_extension": ".py",
   "mimetype": "text/x-python",
   "name": "python",
   "nbconvert_exporter": "python",
   "pygments_lexer": "ipython3",
   "version": "3.7.3"
  }
 },
 "nbformat": 4,
 "nbformat_minor": 2
}
