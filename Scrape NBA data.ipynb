{
 "cells": [
  {
   "cell_type": "code",
   "execution_count": 358,
   "metadata": {},
   "outputs": [],
   "source": [
    "from gazpacho import get, Soup\n",
    "import time\n",
    "from tqdm import tqdm\n",
    "import pandas as pd\n",
    "import numpy as np\n",
    "import re\n",
    "import datetime as DT"
   ]
  },
  {
   "cell_type": "markdown",
   "metadata": {},
   "source": [
    "### The url of the first 100 games for each season"
   ]
  },
  {
   "cell_type": "code",
   "execution_count": 359,
   "metadata": {},
   "outputs": [],
   "source": [
    "# Base url for season 2017-2018 \n",
    "season_17_18_base_url = \"https://www.basketball-reference.com/play-index/tgl_finder.cgi?request=1&match=game&lg_id=NBA&team_seed_cmp=eq&opp_seed_cmp=eq&year_min=2018&year_max=2018&is_range=N&game_num_type=team&order_by=date_game\"\n",
    "# Base url for season 2018-2019\n",
    "season_18_19_base_url = \"https://www.basketball-reference.com/play-index/tgl_finder.cgi?request=1&match=game&lg_id=NBA&team_seed_cmp=eq&opp_seed_cmp=eq&year_min=2019&year_max=2019&is_range=N&game_num_type=team&order_by=date_game\""
   ]
  },
  {
   "cell_type": "code",
   "execution_count": 86,
   "metadata": {},
   "outputs": [],
   "source": [
    "def get_pbp_links(url):\n",
    "    html = get(url)\n",
    "    soup = Soup(html)\n",
    "    data = soup.find('td', {'data-stat': 'date_game'})\n",
    "    links = [l.find('a') for l in data]\n",
    "    pbp_links = [\"https://www.basketball-reference.com\" + l.attrs['href'].replace('scores/','scores/pbp/') for l in links]\n",
    "    return pbp_links"
   ]
  },
  {
   "cell_type": "markdown",
   "metadata": {},
   "source": [
    "### Create a new list to store the urls"
   ]
  },
  {
   "cell_type": "code",
   "execution_count": 98,
   "metadata": {},
   "outputs": [],
   "source": [
    "pbp_links_17_18 = get_pbp_links(season_17_18_base_url)"
   ]
  },
  {
   "cell_type": "markdown",
   "metadata": {},
   "source": [
    "### Loop through the pages and insert the urls into the list created previously"
   ]
  },
  {
   "cell_type": "code",
   "execution_count": 99,
   "metadata": {},
   "outputs": [
    {
     "name": "stderr",
     "output_type": "stream",
     "text": [
      "100%|██████████| 26/26 [01:13<00:00,  3.68s/it]\n"
     ]
    }
   ],
   "source": [
    "for _ in tqdm(range(100, 2624, 100)):\n",
    "    offset = _\n",
    "    season_17_18_url = f\"https://www.basketball-reference.com/play-index/tgl_finder.cgi?request=1&player=&match=game&lg_id=NBA&year_min=2018&year_max=2018&team_id=&opp_id=&is_range=N&is_playoffs=&round_id=&best_of=&team_seed=&opp_seed=&team_seed_cmp=eq&opp_seed_cmp=eq&game_num_type=team&game_num_min=&game_num_max=&game_month=&game_location=&game_result=&is_overtime=&c1stat=&c1comp=&c1val=&c2stat=&c2comp=&c2val=&c3stat=&c3comp=&c3val=&c4stat=&c4comp=&c4val=&order_by=date_game&order_by_asc=&offset={offset}\"\n",
    "    links = get_pbp_links(season_17_18_url)\n",
    "    pbp_links_17_18.extend(links)\n",
    "    time.sleep(1)"
   ]
  },
  {
   "cell_type": "markdown",
   "metadata": {},
   "source": [
    "### Even though there are 2624 links scraped but half of them are unique"
   ]
  },
  {
   "cell_type": "code",
   "execution_count": 100,
   "metadata": {},
   "outputs": [
    {
     "data": {
      "text/plain": [
       "2624"
      ]
     },
     "execution_count": 100,
     "metadata": {},
     "output_type": "execute_result"
    }
   ],
   "source": [
    "len(pbp_links_17_18)"
   ]
  },
  {
   "cell_type": "code",
   "execution_count": 601,
   "metadata": {},
   "outputs": [
    {
     "data": {
      "text/plain": [
       "1312"
      ]
     },
     "execution_count": 601,
     "metadata": {},
     "output_type": "execute_result"
    }
   ],
   "source": [
    "pbp_links_17_18 = np.unique(pbp_links_17_18)\n",
    "len(pbp_links_17_18)"
   ]
  },
  {
   "cell_type": "markdown",
   "metadata": {},
   "source": [
    "### Repeat the same step for season 18-19"
   ]
  },
  {
   "cell_type": "code",
   "execution_count": 102,
   "metadata": {},
   "outputs": [],
   "source": [
    "pbp_links_18_19 = get_pbp_links(season_18_19_base_url)"
   ]
  },
  {
   "cell_type": "code",
   "execution_count": 105,
   "metadata": {},
   "outputs": [
    {
     "name": "stderr",
     "output_type": "stream",
     "text": [
      "100%|██████████| 26/26 [01:47<00:00,  4.37s/it]\n"
     ]
    }
   ],
   "source": [
    "# loop through season 18_19 games\n",
    "# change url offset\n",
    "for _ in tqdm(range(100, 2624, 100)):\n",
    "    offset = _\n",
    "    season_18_19_url = f\"https://www.basketball-reference.com/play-index/tgl_finder.cgi?request=1&player=&match=game&lg_id=NBA&year_min=2019&year_max=2019&team_id=&opp_id=&is_range=N&is_playoffs=&round_id=&best_of=&team_seed=&opp_seed=&team_seed_cmp=eq&opp_seed_cmp=eq&game_num_type=team&game_num_min=&game_num_max=&game_month=&game_location=&game_result=&is_overtime=&c1stat=&c1comp=&c1val=&c2stat=&c2comp=&c2val=&c3stat=&c3comp=&c3val=&c4stat=&c4comp=&c4val=&order_by=date_game&order_by_asc=&offset={offset}\"\n",
    "    links = get_pbp_links(season_18_19_url)\n",
    "    pbp_links_18_19.extend(links)\n",
    "    time.sleep(1)"
   ]
  },
  {
   "cell_type": "code",
   "execution_count": 108,
   "metadata": {},
   "outputs": [
    {
     "data": {
      "text/plain": [
       "1312"
      ]
     },
     "execution_count": 108,
     "metadata": {},
     "output_type": "execute_result"
    }
   ],
   "source": [
    "# Number of unique links\n",
    "len(np.unique(pbp_links_18_19))"
   ]
  },
  {
   "cell_type": "code",
   "execution_count": 110,
   "metadata": {},
   "outputs": [],
   "source": [
    "pbp_links_18_19 = np.unique(pbp_links_18_19)"
   ]
  },
  {
   "cell_type": "code",
   "execution_count": 111,
   "metadata": {},
   "outputs": [
    {
     "data": {
      "text/plain": [
       "array(['https://www.basketball-reference.com/boxscores/pbp/201810160BOS.html',\n",
       "       'https://www.basketball-reference.com/boxscores/pbp/201810160GSW.html',\n",
       "       'https://www.basketball-reference.com/boxscores/pbp/201810170CHO.html',\n",
       "       ...,\n",
       "       'https://www.basketball-reference.com/boxscores/pbp/201906070GSW.html',\n",
       "       'https://www.basketball-reference.com/boxscores/pbp/201906100TOR.html',\n",
       "       'https://www.basketball-reference.com/boxscores/pbp/201906130GSW.html'],\n",
       "      dtype='<U68')"
      ]
     },
     "execution_count": 111,
     "metadata": {},
     "output_type": "execute_result"
    }
   ],
   "source": [
    "pbp_links_18_19"
   ]
  },
  {
   "cell_type": "markdown",
   "metadata": {},
   "source": [
    "# Defining different methods to get play-by-play data from each game"
   ]
  },
  {
   "cell_type": "code",
   "execution_count": 602,
   "metadata": {},
   "outputs": [],
   "source": [
    "def get_data(url):\n",
    "    scores, times = get_table_data(url)\n",
    "    \n",
    "    df = pd.DataFrame({\n",
    "    'time': times,\n",
    "    'score': scores\n",
    "    })\n",
    "    \n",
    "    df['time'] = df['time'].apply(lambda x:re.findall(r'[0-9]{1,2}:[0-9]{2}',x)[0])\n",
    "    \n",
    "    df['time'] = time_played(df['time'],df['score'])\n",
    "    \n",
    "    #remove duplicates\n",
    "    df.drop_duplicates(inplace=True)\n",
    "    \n",
    "    # remove indicator of start/end of quarter\n",
    "    df = df[df['score'].str.contains('-')]\n",
    "    \n",
    "    home, away = strip_score(df['score'])\n",
    "    df['home'] = home\n",
    "    df['away'] = away\n",
    "    \n",
    "    df.drop('score',axis=1,inplace=True)\n",
    "    \n",
    "    return df"
   ]
  },
  {
   "cell_type": "code",
   "execution_count": 597,
   "metadata": {},
   "outputs": [
    {
     "data": {
      "text/html": [
       "<div>\n",
       "<style scoped>\n",
       "    .dataframe tbody tr th:only-of-type {\n",
       "        vertical-align: middle;\n",
       "    }\n",
       "\n",
       "    .dataframe tbody tr th {\n",
       "        vertical-align: top;\n",
       "    }\n",
       "\n",
       "    .dataframe thead th {\n",
       "        text-align: right;\n",
       "    }\n",
       "</style>\n",
       "<table border=\"1\" class=\"dataframe\">\n",
       "  <thead>\n",
       "    <tr style=\"text-align: right;\">\n",
       "      <th></th>\n",
       "      <th>time</th>\n",
       "      <th>home</th>\n",
       "      <th>away</th>\n",
       "    </tr>\n",
       "  </thead>\n",
       "  <tbody>\n",
       "    <tr>\n",
       "      <th>0</th>\n",
       "      <td>0.266667</td>\n",
       "      <td>0</td>\n",
       "      <td>2</td>\n",
       "    </tr>\n",
       "    <tr>\n",
       "      <th>1</th>\n",
       "      <td>0.550000</td>\n",
       "      <td>0</td>\n",
       "      <td>2</td>\n",
       "    </tr>\n",
       "    <tr>\n",
       "      <th>2</th>\n",
       "      <td>0.616667</td>\n",
       "      <td>0</td>\n",
       "      <td>2</td>\n",
       "    </tr>\n",
       "    <tr>\n",
       "      <th>3</th>\n",
       "      <td>0.650000</td>\n",
       "      <td>0</td>\n",
       "      <td>2</td>\n",
       "    </tr>\n",
       "    <tr>\n",
       "      <th>4</th>\n",
       "      <td>0.700000</td>\n",
       "      <td>0</td>\n",
       "      <td>2</td>\n",
       "    </tr>\n",
       "  </tbody>\n",
       "</table>\n",
       "</div>"
      ],
      "text/plain": [
       "       time home away\n",
       "0  0.266667    0    2\n",
       "1  0.550000    0    2\n",
       "2  0.616667    0    2\n",
       "3  0.650000    0    2\n",
       "4  0.700000    0    2"
      ]
     },
     "execution_count": 597,
     "metadata": {},
     "output_type": "execute_result"
    }
   ],
   "source": [
    "append_score_data(pbp_links_17_18[0]).head()"
   ]
  },
  {
   "cell_type": "markdown",
   "metadata": {},
   "source": [
    "#### What the function does:\n",
    "##### Find `<table> tag with id=\"pbp\"` and from the table find `<td> with class=\"center\"` where the <td> tag contains\n",
    "##### information about scores and start/end of quarter.\n",
    "##### Inside each table rows <tr>, the first <td> contains the time.\n",
    "##### So, append them into list and you get the scores and times list"
   ]
  },
  {
   "cell_type": "code",
   "execution_count": 545,
   "metadata": {},
   "outputs": [],
   "source": [
    "def get_table_data(url):\n",
    "    html = get(url)\n",
    "    soup = Soup(html)\n",
    "    table = soup.find('table', {'id': 'pbp'})\n",
    "    table_data = table.find('td', {'class': 'center'})\n",
    "    scores = [t.text for t in table_data]\n",
    "    rows = table.find('tr',strict=True)\n",
    "    times = []\n",
    "    for i in rows:\n",
    "        try:\n",
    "            time = i.find('td', mode='first')\n",
    "            times.append(time.text)\n",
    "        except (IndexError, TypeError) as e:\n",
    "            pass\n",
    "    return scores, times"
   ]
  },
  {
   "cell_type": "code",
   "execution_count": 429,
   "metadata": {},
   "outputs": [],
   "source": [
    "df = pd.DataFrame({\n",
    "    'time': times,\n",
    "    'score': scores\n",
    "})"
   ]
  },
  {
   "cell_type": "markdown",
   "metadata": {},
   "source": [
    "### Use regex to find anything that is 2 numbers separated by \":\" and the following 2 numbers"
   ]
  },
  {
   "cell_type": "code",
   "execution_count": 435,
   "metadata": {},
   "outputs": [],
   "source": [
    "df['time'] = df['time'].apply(lambda x:re.findall(r'[0-9]{1,2}:[0-9]{2}',x)[0])"
   ]
  },
  {
   "cell_type": "code",
   "execution_count": 502,
   "metadata": {},
   "outputs": [],
   "source": [
    "df['time'] = time_played(df['time'],df['score'])"
   ]
  },
  {
   "cell_type": "markdown",
   "metadata": {},
   "source": [
    "### Convert the time into DateTime object with the following code:\n",
    "```python\n",
    "t = DT.datetime.strptime(t, '%M:%S')\n",
    "```\n",
    "### Then using the other DateTime object *q1 = DT.datetime(1900,1,1,0,12)* to subract the converted DateTime\n",
    "### object to get a TimeDelta and use total_seconds()/60 to find the minutes played"
   ]
  },
  {
   "cell_type": "code",
   "execution_count": 499,
   "metadata": {},
   "outputs": [],
   "source": [
    "def time_played(times,scores):\n",
    "    # Will make this neat when I have time\n",
    "    q1 = DT.datetime(1900,1,1,0,12)\n",
    "    q2 = DT.datetime(1900,1,1,0,24)\n",
    "    q3 = DT.datetime(1900,1,1,0,36)\n",
    "    q4 = DT.datetime(1900,1,1,0,48)\n",
    "    ot1 = DT.datetime(1900,1,1,0,53)\n",
    "    ot2 = DT.datetime(1900,1,1,0,58)\n",
    "    ot3 = DT.datetime(1900,1,1,1,3)\n",
    "    ot4 = DT.datetime(1900,1,1,1,8)\n",
    "    ot5 = DT.datetime(1900,1,1,1,13)\n",
    "    \n",
    "    second_quart_counter = 0\n",
    "    third_quart_counter = 0\n",
    "    fourth_quart_counter = 0\n",
    "    ot_counter = 0\n",
    "    time_played = []\n",
    "\n",
    "    for t,s in zip(times,scores):\n",
    "        t = DT.datetime.strptime(t, '%M:%S')\n",
    "        if 'Start of 2nd quarter' in s:\n",
    "            second_quart_counter += 1\n",
    "        elif 'Start of 3rd quarter' in s:\n",
    "            third_quart_counter += 1\n",
    "        elif 'Start of 4th quarter' in s:\n",
    "            fourth_quart_counter += 1\n",
    "        elif ('Start' in s) & ('overtime' in s):\n",
    "            ot_counter += 1\n",
    "        elif 'End of 2nd quarter' in s:\n",
    "            second_quart_counter -= 1\n",
    "        elif 'End of 3rd quarter' in s:\n",
    "            third_quart_counter -= 1\n",
    "        elif 'End of 4th quarter' in s:\n",
    "            fourth_quart_counter -= 1\n",
    "\n",
    "        if second_quart_counter == 1:\n",
    "            t = (q2-t).total_seconds()/60\n",
    "            time_played.append(t)\n",
    "        elif third_quart_counter == 1:\n",
    "            t = (q3-t).total_seconds()/60\n",
    "            time_played.append(t)\n",
    "        elif fourth_quart_counter == 1:\n",
    "            t = (q4-t).total_seconds()/60\n",
    "            time_played.append(t)\n",
    "        elif ot_counter == 1:\n",
    "            t = (ot1-t).total_seconds()/60\n",
    "            time_played.append(t)\n",
    "        elif ot_counter == 2:\n",
    "            t = (ot2-t).total_seconds()/60\n",
    "            time_played.append(t)\n",
    "        elif ot_counter == 3:\n",
    "            t = (ot3-t).total_seconds()/60\n",
    "            time_played.append(t)\n",
    "        elif ot_counter == 4:\n",
    "            t = (ot4-t).total_seconds()/60\n",
    "            time_played.append(t)\n",
    "        elif ot_counter == 5:\n",
    "            t = (ot5-t).total_seconds()/60\n",
    "            time_played.append(t)\n",
    "        else:\n",
    "            t = (q1-t).total_seconds()/60\n",
    "            time_played.append(t)\n",
    "    return time_played"
   ]
  },
  {
   "cell_type": "markdown",
   "metadata": {},
   "source": [
    "### Use regex to find anything that is up to 3 numbers ending with \"-\" and assign it to away team\n",
    "### Then find up to 3 number starting with \"-\" and assign it to home team"
   ]
  },
  {
   "cell_type": "code",
   "execution_count": 532,
   "metadata": {},
   "outputs": [],
   "source": [
    "def strip_score(score):\n",
    "    home = []\n",
    "    away = []\n",
    "    for s in score:\n",
    "        h = re.findall(r'[0-9]{1,3}$',s)[0]\n",
    "        a = re.findall(r'^[0-9]{1,3}',s)[0]\n",
    "        home.append(h)\n",
    "        away.append(a)\n",
    "    return home, away"
   ]
  },
  {
   "cell_type": "markdown",
   "metadata": {},
   "source": [
    "### Determine whether home team win or lose and set that as the result(y) for the dataset"
   ]
  },
  {
   "cell_type": "code",
   "execution_count": 576,
   "metadata": {},
   "outputs": [],
   "source": [
    "df['home'] = df['home'].astype(int)\n",
    "df['away'] = df['away'].astype(int)\n",
    "home_win = df['home'].iloc[-1] > df['away'].iloc[-1]"
   ]
  },
  {
   "cell_type": "code",
   "execution_count": 582,
   "metadata": {},
   "outputs": [
    {
     "name": "stderr",
     "output_type": "stream",
     "text": [
      "/home/nthock/anaconda3/lib/python3.7/site-packages/ipykernel_launcher.py:1: SettingWithCopyWarning: \n",
      "A value is trying to be set on a copy of a slice from a DataFrame.\n",
      "Try using .loc[row_indexer,col_indexer] = value instead\n",
      "\n",
      "See the caveats in the documentation: http://pandas.pydata.org/pandas-docs/stable/indexing.html#indexing-view-versus-copy\n",
      "  \"\"\"Entry point for launching an IPython kernel.\n"
     ]
    }
   ],
   "source": [
    "df['home_win'] = [home_win] * len(df['home'])"
   ]
  },
  {
   "cell_type": "code",
   "execution_count": null,
   "metadata": {},
   "outputs": [],
   "source": [
    "df.to_csv('',index=False)\n",
    "\n",
    "df.append()"
   ]
  }
 ],
 "metadata": {
  "kernelspec": {
   "display_name": "Python 3",
   "language": "python",
   "name": "python3"
  },
  "language_info": {
   "codemirror_mode": {
    "name": "ipython",
    "version": 3
   },
   "file_extension": ".py",
   "mimetype": "text/x-python",
   "name": "python",
   "nbconvert_exporter": "python",
   "pygments_lexer": "ipython3",
   "version": "3.7.3"
  }
 },
 "nbformat": 4,
 "nbformat_minor": 2
}
